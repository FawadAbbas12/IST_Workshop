{
 "cells": [
  {
   "cell_type": "markdown",
   "id": "a2cf1bae",
   "metadata": {},
   "source": [
    "# Session 3 \n",
    "<table class=\"tfo-notebook-buttons\" align=\"right\" style=\"margin-top:-55px\">\n",
    "  <td>\n",
    "      <a target=\"_blank\" href=\"#\"><img src=\"res/logo.png\"  width=\"60\" height=\"50\" /><p style='margin-left:8px'>NECOP</p></a>\n",
    "  </td>\n",
    "  <td>\n",
    "          <a target=\"_blank\" href=\"#\"> <img style=\"margin-top:18px\" width=\"60\" height=\"50\" src=\"res/IST-LOGO.jpeg\"><p style='margin-left:18px'>IST</p></a>\n",
    "  </td>\n",
    " </table>"
   ]
  },
  {
   "cell_type": "markdown",
   "id": "43fb32f7",
   "metadata": {},
   "source": [
    "## From Python to Tensorflow\n",
    "<table class=\"tfo-notebook-buttons\" align=\"right\" style=\"margin-top:-55px\">\n",
    "  <td>\n",
    "    <a target=\"_blank\" href=\"https://www.tensorflow.org/api_docs/python/tf/all_symbols\"><img src=\"https://www.tensorflow.org/images/tf_logo_32px.png\" />TensorFlow</a>\n",
    "  </td>\n",
    "  <td>\n",
    "          <a target=\"_blank\" href=\"https://keras.io/guides/\"> <img width=\"32\" height=\"50\" src=\"https://external-content.duckduckgo.com/iu/?u=http%3A%2F%2Fadventuresinmachinelearning.com%2Fwp-content%2Fuploads%2F2017%2F05%2Fkeras-logo-small-wb-1.png&f=1&nofb=1\">Keras Guide</a>\n",
    "  </td>\n",
    " </table>"
   ]
  },
  {
   "cell_type": "markdown",
   "id": "a7b75bdc",
   "metadata": {
    "heading_collapsed": true
   },
   "source": [
    "## Data representation \n",
    "tf.constant will create tensors wiht constant on the current device.\n",
    "\n",
    "    tf.constant(\n",
    "        value, dtype=None, shape=None, name='Const'\n",
    "    )\n"
   ]
  },
  {
   "cell_type": "code",
   "execution_count": 9,
   "id": "68be2cc3",
   "metadata": {
    "ExecuteTime": {
     "end_time": "2022-01-06T10:21:36.675918Z",
     "start_time": "2022-01-06T10:21:36.672203Z"
    },
    "hidden": true
   },
   "outputs": [
    {
     "name": "stdout",
     "output_type": "stream",
     "text": [
      "tf.Tensor(3, shape=(), dtype=int32)\n",
      "tf.Tensor(\n",
      "[[1 0 0]\n",
      " [0 1 0]\n",
      " [0 0 1]], shape=(3, 3), dtype=int64)\n"
     ]
    }
   ],
   "source": [
    "# importing tensorflow\n",
    "import tensorflow as tf\n",
    "import numpy as np\n",
    "R_Channel_offset = tf.constant(3, dtype=tf.int32)\n",
    "print(R_Channel_offset)\n",
    "\n",
    "grid = np.array([[1,0,0],[0,1,0],[0,0,1]])\n",
    "grid_tensor = tf.constant(grid)\n",
    "print(grid_tensor)"
   ]
  },
  {
   "cell_type": "markdown",
   "id": "bbc53b8b",
   "metadata": {
    "hidden": true
   },
   "source": [
    "### Vaiables\n",
    "tf.Variable creates a ensor wiht viable value so it can be chaged during session execution \n",
    "\n",
    "    tf.Variable(\n",
    "    initial_value=None, trainable=None, validate_shape=True, caching_device=None,\n",
    "    name=None, variable_def=None, dtype=None, import_scope=None, constraint=None,\n",
    "    synchronization=tf.VariableSynchronization.AUTO,\n",
    "    aggregation=tf.compat.v1.VariableAggregation.NONE, shape=None\n",
    "    )\n"
   ]
  },
  {
   "cell_type": "code",
   "execution_count": 18,
   "id": "6ce0f834",
   "metadata": {
    "ExecuteTime": {
     "end_time": "2022-01-06T10:29:29.655226Z",
     "start_time": "2022-01-06T10:29:29.650775Z"
    },
    "hidden": true
   },
   "outputs": [
    {
     "name": "stdout",
     "output_type": "stream",
     "text": [
      "<tf.Variable 'Variable:0' shape=() dtype=float64, numpy=0.001>\n",
      "tf.Tensor(0.001, shape=(), dtype=float64)\n",
      "<tf.Variable 'Variable:0' shape=() dtype=float32, numpy=0.01>\n",
      "tf.Tensor(0.01, shape=(), dtype=float32)\n"
     ]
    }
   ],
   "source": [
    "layer1_bias = tf.Variable(initial_value=0, dtype=tf.float64)\n",
    "layer1_bias.assign(.001)\n",
    "print(layer1_bias)\n",
    "print(layer1_bias.value())\n",
    "\n",
    "non_trainable = tf.Variable(.01, trainable=False)\n",
    "print(non_trainable)\n",
    "print(non_trainable.value())"
   ]
  },
  {
   "cell_type": "markdown",
   "id": "4b81f34d",
   "metadata": {
    "hidden": true
   },
   "source": [
    "### Place holders\n",
    "place holders are used to feed values further into computation\n",
    "\n",
    "    tf.raw_ops.Placeholder(\n",
    "        dtype, shape=None, name=None\n",
    "    )\n"
   ]
  },
  {
   "cell_type": "code",
   "execution_count": null,
   "id": "15799617",
   "metadata": {
    "hidden": true
   },
   "outputs": [],
   "source": []
  },
  {
   "cell_type": "markdown",
   "id": "a33dc38a",
   "metadata": {
    "heading_collapsed": true
   },
   "source": [
    "## GradientTape\n",
    "Gradient tape is ued to automatically compute differentials for operations which were performaed under it's scope\n",
    "\n",
    "    tf.GradientTape(\n",
    "    persistent=False, watch_accessed_variables=True\n",
    "    )\n"
   ]
  },
  {
   "cell_type": "code",
   "execution_count": 31,
   "id": "dcea4640",
   "metadata": {
    "ExecuteTime": {
     "end_time": "2022-01-06T10:45:59.340579Z",
     "start_time": "2022-01-06T10:45:59.336217Z"
    },
    "hidden": true
   },
   "outputs": [
    {
     "name": "stdout",
     "output_type": "stream",
     "text": [
      "tf.Tensor(5.0, shape=(), dtype=float32)\n",
      "tf.Tensor(2.0, shape=(), dtype=float32)\n"
     ]
    }
   ],
   "source": [
    "offset = tf.constant(3.)\n",
    "with tf.GradientTape(persistent=True) as tape:\n",
    "    trainable = tf.Variable(1.)\n",
    "    non_trainable = tf.Variable(2., trainable=False)\n",
    "    x1 = trainable * 2.\n",
    "    x1 = x1 + offset\n",
    "    x2 = non_trainable * 3.\n",
    "print(x1)    \n",
    "print(tape.gradient(x1, trainable))"
   ]
  },
  {
   "cell_type": "markdown",
   "id": "36190f05",
   "metadata": {},
   "source": [
    "## Data Loaders\n",
    "### tfds\n",
    "<code>tensorflow_datasets</code> (tfds) defines a collection of datasets ready-to-use with TensorFlow.\n",
    "Each dataset is defined as a <code>tfds.core.DatasetBuilder</code>, which encapsulates the logic to download the dataset and construct an input pipeline, as well as contains the dataset documentation (version, splits, number of examples, etc.).\n",
    "\n",
    "    The main library entrypoints are:\n",
    "        tfds.builder: fetch a tfds.core.DatasetBuilder by name\n",
    "        tfds.load: convenience method to construct a builder, download the data, and create an input pipeline, returning a tf.data.Dataset.\n",
    "\n",
    "### Instaltion\n",
    "    stable: pip install tensorflow-datasets\n",
    "    BETA  : pip install tfds-nightly\n",
    "    "
   ]
  },
  {
   "cell_type": "markdown",
   "id": "dc197c88",
   "metadata": {
    "heading_collapsed": true
   },
   "source": [
    "### Find datasets\n",
    "<code> tfds.list_builders() </code> returnes a list of all avaiable data builders under tfds"
   ]
  },
  {
   "cell_type": "code",
   "execution_count": 7,
   "id": "10c81530",
   "metadata": {
    "ExecuteTime": {
     "end_time": "2022-01-07T04:40:04.264304Z",
     "start_time": "2022-01-07T04:40:04.259885Z"
    },
    "collapsed": true,
    "hidden": true
   },
   "outputs": [
    {
     "name": "stdout",
     "output_type": "stream",
     "text": [
      "cifar10 is now supported by tfds\n",
      "total number of dataset builders: 1029\n",
      "list of all avaiable datasets is as following\n",
      " ['abstract_reasoning', 'accentdb', 'aeslc', 'aflw2k3d', 'ag_news_subset', 'ai2_arc', 'ai2_arc_with_ir', 'amazon_us_reviews', 'anli', 'arc', 'asset', 'bair_robot_pushing_small', 'bccd', 'beans', 'bee_dataset', 'big_patent', 'bigearthnet', 'billsum', 'binarized_mnist', 'binary_alpha_digits', 'blimp', 'booksum', 'bool_q', 'c4', 'caltech101', 'caltech_birds2010', 'caltech_birds2011', 'cardiotox', 'cars196', 'cassava', 'cats_vs_dogs', 'celeb_a', 'celeb_a_hq', 'cfq', 'cherry_blossoms', 'chexpert', 'cifar10', 'cifar100', 'cifar10_1', 'cifar10_corrupted', 'citrus_leaves', 'cityscapes', 'civil_comments', 'clevr', 'clic', 'clinc_oos', 'cmaterdb', 'cnn_dailymail', 'coco', 'coco_captions', 'coil100', 'colorectal_histology', 'colorectal_histology_large', 'common_voice', 'coqa', 'cos_e', 'cosmos_qa', 'covid19', 'covid19sum', 'crema_d', 'cs_restaurants', 'curated_breast_imaging_ddsm', 'cycle_gan', 'd4rl_adroit_door', 'd4rl_adroit_hammer', 'd4rl_adroit_pen', 'd4rl_adroit_relocate', 'd4rl_antmaze', 'd4rl_mujoco_ant', 'd4rl_mujoco_halfcheetah', 'd4rl_mujoco_hopper', 'd4rl_mujoco_walker2d', 'dart', 'davis', 'deep_weeds', 'definite_pronoun_resolution', 'dementiabank', 'diabetic_retinopathy_detection', 'div2k', 'dmlab', 'doc_nli', 'dolphin_number_word', 'domainnet', 'downsampled_imagenet', 'drop', 'dsprites', 'dtd', 'duke_ultrasound', 'e2e_cleaned', 'efron_morris75', 'emnist', 'eraser_multi_rc', 'esnli', 'eurosat', 'fashion_mnist', 'flic', 'flores', 'food101', 'forest_fires', 'fuss', 'gap', 'geirhos_conflict_stimuli', 'gem', 'genomics_ood', 'german_credit_numeric', 'gigaword', 'glue', 'goemotions', 'gov_report', 'gpt3', 'gref', 'groove', 'gsm8k', 'gtzan', 'gtzan_music_speech', 'hellaswag', 'higgs', 'horses_or_humans', 'howell', 'i_naturalist2017', 'i_naturalist2018', 'imagenet2012', 'imagenet2012_corrupted', 'imagenet2012_multilabel', 'imagenet2012_real', 'imagenet2012_subset', 'imagenet_a', 'imagenet_lt', 'imagenet_r', 'imagenet_resized', 'imagenet_sketch', 'imagenet_v2', 'imagenette', 'imagewang', 'imdb_reviews', 'irc_disentanglement', 'iris', 'istella', 'kddcup99', 'kitti', 'kmnist', 'lambada', 'lfw', 'librispeech', 'librispeech_lm', 'libritts', 'ljspeech', 'lm1b', 'lost_and_found', 'lsun', 'lvis', 'malaria', 'math_dataset', 'math_qa', 'mctaco', 'mlqa', 'mnist', 'mnist_corrupted', 'movie_lens', 'movie_rationales', 'movielens', 'moving_mnist', 'mslr_web', 'multi_news', 'multi_nli', 'multi_nli_mismatch', 'natural_questions', 'natural_questions_open', 'newsroom', 'nsynth', 'nyu_depth_v2', 'ogbg_molpcba', 'omniglot', 'open_images_challenge2019_detection', 'open_images_v4', 'openbookqa', 'opinion_abstracts', 'opinosis', 'opus', 'oxford_flowers102', 'oxford_iiit_pet', 'para_crawl', 'pass', 'patch_camelyon', 'paws_wiki', 'paws_x_wiki', 'penguins', 'pet_finder', 'pg19', 'piqa', 'places365_small', 'plant_leaves', 'plant_village', 'plantae_k', 'protein_net', 'qa4mre', 'qasc', 'quac', 'quickdraw_bitmap', 'race', 'radon', 'reddit', 'reddit_disentanglement', 'reddit_tifu', 'ref_coco', 'resisc45', 'rlu_atari', 'rlu_atari_checkpoints', 'rlu_atari_checkpoints_ordered', 'rlu_dmlab_explore_object_rewards_few', 'rlu_dmlab_explore_object_rewards_many', 'rlu_dmlab_rooms_select_nonmatching_object', 'rlu_dmlab_rooms_watermaze', 'rlu_dmlab_seekavoid_arena01', 'rlu_rwrl', 'robonet', 'robosuite_panda_pick_place_can', 'rock_paper_scissors', 'rock_you', 's3o4d', 'salient_span_wikipedia', 'samsum', 'savee', 'scan', 'scene_parse150', 'schema_guided_dialogue', 'scicite', 'scientific_papers', 'sentiment140', 'shapes3d', 'siscore', 'smallnorb', 'smartwatch_gestures', 'snli', 'so2sat', 'speech_commands', 'spoken_digit', 'squad', 'squad_question_generation', 'stanford_dogs', 'stanford_online_products', 'star_cfq', 'starcraft_video', 'stl10', 'story_cloze', 'summscreen', 'sun397', 'super_glue', 'svhn_cropped', 'symmetric_solids', 'tao', 'ted_hrlr_translate', 'ted_multi_translate', 'tedlium', 'tf_flowers', 'the300w_lp', 'tiny_shakespeare', 'titanic', 'trec', 'trivia_qa', 'tydi_qa', 'uc_merced', 'ucf101', 'vctk', 'visual_domain_decathlon', 'voc', 'voxceleb', 'voxforge', 'waymo_open_dataset', 'web_nlg', 'web_questions', 'wider_face', 'wiki40b', 'wiki_auto', 'wiki_bio', 'wiki_table_questions', 'wiki_table_text', 'wikiann', 'wikihow', 'wikipedia', 'wikipedia_toxicity_subtypes', 'wine_quality', 'winogrande', 'wit', 'wit_kaggle', 'wmt13_translate', 'wmt14_translate', 'wmt15_translate', 'wmt16_translate', 'wmt17_translate', 'wmt18_translate', 'wmt19_translate', 'wmt_t2t_translate', 'wmt_translate', 'wordnet', 'wsc273', 'xnli', 'xquad', 'xsum', 'xtreme_pawsx', 'xtreme_xnli', 'yelp_polarity_reviews', 'yes_no', 'youtube_vis', 'huggingface:acronym_identification', 'huggingface:ade_corpus_v2', 'huggingface:adversarial_qa', 'huggingface:aeslc', 'huggingface:afrikaans_ner_corpus', 'huggingface:ag_news', 'huggingface:ai2_arc', 'huggingface:air_dialogue', 'huggingface:ajgt_twitter_ar', 'huggingface:allegro_reviews', 'huggingface:allocine', 'huggingface:alt', 'huggingface:amazon_polarity', 'huggingface:amazon_reviews_multi', 'huggingface:amazon_us_reviews', 'huggingface:ambig_qa', 'huggingface:americas_nli', 'huggingface:ami', 'huggingface:amttl', 'huggingface:anli', 'huggingface:app_reviews', 'huggingface:aqua_rat', 'huggingface:aquamuse', 'huggingface:ar_cov19', 'huggingface:ar_res_reviews', 'huggingface:ar_sarcasm', 'huggingface:arabic_billion_words', 'huggingface:arabic_pos_dialect', 'huggingface:arabic_speech_corpus', 'huggingface:arcd', 'huggingface:arsentd_lev', 'huggingface:art', 'huggingface:arxiv_dataset', 'huggingface:ascent_kb', 'huggingface:aslg_pc12', 'huggingface:asnq', 'huggingface:asset', 'huggingface:assin', 'huggingface:assin2', 'huggingface:atomic', 'huggingface:autshumato', 'huggingface:babi_qa', 'huggingface:banking77', 'huggingface:bbaw_egyptian', 'huggingface:bbc_hindi_nli', 'huggingface:bc2gm_corpus', 'huggingface:beans', 'huggingface:best2009', 'huggingface:bianet', 'huggingface:bible_para', 'huggingface:big_patent', 'huggingface:billsum', 'huggingface:bing_coronavirus_query_set', 'huggingface:biomrc', 'huggingface:biosses', 'huggingface:blbooksgenre', 'huggingface:blended_skill_talk', 'huggingface:blimp', 'huggingface:blog_authorship_corpus', 'huggingface:bn_hate_speech', 'huggingface:bookcorpus', 'huggingface:bookcorpusopen', 'huggingface:boolq', 'huggingface:bprec', 'huggingface:break_data', 'huggingface:brwac', 'huggingface:bsd_ja_en', 'huggingface:bswac', 'huggingface:c3', 'huggingface:c4', 'huggingface:cail2018', 'huggingface:caner', 'huggingface:capes', 'huggingface:casino', 'huggingface:catalonia_independence', 'huggingface:cats_vs_dogs', 'huggingface:cawac', 'huggingface:cbt', 'huggingface:cc100', 'huggingface:cc_news', 'huggingface:ccaligned_multilingual', 'huggingface:cdsc', 'huggingface:cdt', 'huggingface:cedr', 'huggingface:cfq', 'huggingface:chr_en', 'huggingface:cifar10', 'huggingface:cifar100', 'huggingface:circa', 'huggingface:civil_comments', 'huggingface:clickbait_news_bg', 'huggingface:climate_fever', 'huggingface:clinc_oos', 'huggingface:clue', 'huggingface:cmrc2018', 'huggingface:cmu_hinglish_dog', 'huggingface:cnn_dailymail', 'huggingface:coached_conv_pref', 'huggingface:coarse_discourse', 'huggingface:codah', 'huggingface:code_search_net', 'huggingface:code_x_glue_cc_clone_detection_big_clone_bench', 'huggingface:code_x_glue_cc_clone_detection_poj104', 'huggingface:code_x_glue_cc_cloze_testing_all', 'huggingface:code_x_glue_cc_cloze_testing_maxmin', 'huggingface:code_x_glue_cc_code_completion_line', 'huggingface:code_x_glue_cc_code_completion_token', 'huggingface:code_x_glue_cc_code_refinement', 'huggingface:code_x_glue_cc_code_to_code_trans', 'huggingface:code_x_glue_cc_defect_detection', 'huggingface:code_x_glue_ct_code_to_text', 'huggingface:code_x_glue_tc_nl_code_search_adv', 'huggingface:code_x_glue_tc_text_to_code', 'huggingface:code_x_glue_tt_text_to_text', 'huggingface:com_qa', 'huggingface:common_gen', 'huggingface:common_language', 'huggingface:common_voice', 'huggingface:commonsense_qa', 'huggingface:competition_math', 'huggingface:compguesswhat', 'huggingface:conceptnet5', 'huggingface:conll2000', 'huggingface:conll2002', 'huggingface:conll2003', 'huggingface:conllpp', 'huggingface:conv_ai', 'huggingface:conv_ai_2', 'huggingface:conv_ai_3', 'huggingface:conv_questions', 'huggingface:coqa', 'huggingface:cord19', 'huggingface:cornell_movie_dialog', 'huggingface:cos_e', 'huggingface:cosmos_qa', 'huggingface:counter', 'huggingface:covid_qa_castorini', 'huggingface:covid_qa_deepset', 'huggingface:covid_qa_ucsd', 'huggingface:covid_tweets_japanese', 'huggingface:covost2', 'huggingface:craigslist_bargains', 'huggingface:crawl_domain', 'huggingface:crd3', 'huggingface:crime_and_punish', 'huggingface:crows_pairs', 'huggingface:cryptonite', 'huggingface:cs_restaurants', 'huggingface:cuad', 'huggingface:curiosity_dialogs', 'huggingface:daily_dialog', 'huggingface:dane', 'huggingface:danish_political_comments', 'huggingface:dart', 'huggingface:datacommons_factcheck', 'huggingface:dbpedia_14', 'huggingface:dbrd', 'huggingface:deal_or_no_dialog', 'huggingface:definite_pronoun_resolution', 'huggingface:dengue_filipino', 'huggingface:dialog_re', 'huggingface:diplomacy_detection', 'huggingface:disaster_response_messages', 'huggingface:discofuse', 'huggingface:discovery', 'huggingface:disfl_qa', 'huggingface:doc2dial', 'huggingface:docred', 'huggingface:doqa', 'huggingface:dream', 'huggingface:drop', 'huggingface:duorc', 'huggingface:dutch_social', 'huggingface:dyk', 'huggingface:e2e_nlg', 'huggingface:e2e_nlg_cleaned', 'huggingface:ecb', 'huggingface:ecthr_cases', 'huggingface:eduge', 'huggingface:ehealth_kd', 'huggingface:eitb_parcc', 'huggingface:eli5', 'huggingface:eli5_category', 'huggingface:emea', 'huggingface:emo', 'huggingface:emotion', 'huggingface:emotone_ar', 'huggingface:empathetic_dialogues', 'huggingface:"
     ]
    },
    {
     "data": {
      "text/html": [
       "<b>limit_output extension: Maximum message size of 10000 exceeded with 24307 characters</b>"
      ]
     },
     "metadata": {},
     "output_type": "display_data"
    }
   ],
   "source": [
    "import matplotlib.pyplot as plt\n",
    "import numpy as np\n",
    "import tensorflow as tf\n",
    "import tensorflow_datasets as tfds\n",
    "avaiable_builders = tfds.list_builders()\n",
    "if 'cifar10' in avaiable_builders:\n",
    "    print(\"cifar10 is now supported by tfds\")\n",
    "print(f'total number of dataset builders: {len(avaiable_builders)}')\n",
    "print(f'list of all avaiable datasets is as following\\n {avaiable_builders}')"
   ]
  },
  {
   "cell_type": "markdown",
   "id": "9b26db65",
   "metadata": {},
   "source": [
    "### Load online dataset\n",
    "<code> tfds.load </code> is one of the main entry point to load datasets it returnes <code>tf.data.Dataset</code>.\n",
    "\n",
    "    tfds.load(\n",
    "        name: str,\n",
    "        *,\n",
    "        split: Optional[Tree[splits_lib.Split]] = None,\n",
    "        data_dir: Optional[str] = None,\n",
    "        batch_size: tfds.typing.Dim = None,\n",
    "        shuffle_files: bool = False,\n",
    "        download: bool = True,\n",
    "        as_supervised: bool = False,\n",
    "        decoders: Optional[TreeDict[decode.Decoder]] = None,\n",
    "        read_config: Optional[tfds.ReadConfig] = None,\n",
    "        with_info: bool = False,\n",
    "        builder_kwargs: Optional[Dict[str, Any]] = None,\n",
    "        download_and_prepare_kwargs: Optional[Dict[str, Any]] = None,\n",
    "        as_dataset_kwargs: Optional[Dict[str, Any]] = None,\n",
    "        try_gcs: bool = False\n",
    "    )\n"
   ]
  },
  {
   "cell_type": "code",
   "execution_count": 10,
   "id": "e0f51c4a",
   "metadata": {
    "ExecuteTime": {
     "end_time": "2022-01-07T04:48:46.924382Z",
     "start_time": "2022-01-07T04:48:46.875315Z"
    }
   },
   "outputs": [
    {
     "name": "stdout",
     "output_type": "stream",
     "text": [
      "<_OptionsDataset shapes: {id: (), image: (32, 32, 3), label: ()}, types: {id: tf.string, image: tf.uint8, label: tf.int64}>\n"
     ]
    }
   ],
   "source": [
    "# data_set = tfds.load('mnist', split='train', shuffle_files=True)\n",
    "#download: 162.17 MiB, generated: 132.40 MiB, total: 294.58 MiB\n",
    "data_set = tfds.load('cifar10', split='train', shuffle_files=True)\n",
    "print(data_set)"
   ]
  },
  {
   "cell_type": "code",
   "execution_count": 25,
   "id": "37d74020",
   "metadata": {
    "ExecuteTime": {
     "end_time": "2022-01-07T05:05:05.958725Z",
     "start_time": "2022-01-07T05:05:05.936964Z"
    },
    "collapsed": true
   },
   "outputs": [
    {
     "name": "stdout",
     "output_type": "stream",
     "text": [
      "<PrefetchDataset shapes: {id: (None,), image: (None, 32, 32, 3), label: (None,)}, types: {id: tf.string, image: tf.uint8, label: tf.int64}>\n",
      "{'id': <tf.Tensor: shape=(1,), dtype=string, numpy=array([b'train_16399'], dtype=object)>, 'image': <tf.Tensor: shape=(1, 32, 32, 3), dtype=uint8, numpy=\n",
      "array([[[[143,  96,  70],\n",
      "         [141,  96,  72],\n",
      "         [135,  93,  72],\n",
      "         ...,\n",
      "         [ 96,  37,  19],\n",
      "         [105,  42,  18],\n",
      "         [104,  38,  20]],\n",
      "\n",
      "        [[128,  98,  92],\n",
      "         [146, 118, 112],\n",
      "         [170, 145, 138],\n",
      "         ...,\n",
      "         [108,  45,  26],\n",
      "         [112,  44,  24],\n",
      "         [112,  41,  22]],\n",
      "\n",
      "        [[ 93,  69,  75],\n",
      "         [118,  96, 101],\n",
      "         [179, 160, 162],\n",
      "         ...,\n",
      "         [128,  68,  47],\n",
      "         [125,  61,  42],\n",
      "         [122,  59,  39]],\n",
      "\n",
      "        ...,\n",
      "\n",
      "        [[187, 150, 123],\n",
      "         [184, 148, 123],\n",
      "         [179, 142, 121],\n",
      "         ...,\n",
      "         [198, 163, 132],\n",
      "         [201, 166, 135],\n",
      "         [207, 174, 143]],\n",
      "\n",
      "        [[187, 150, 117],\n",
      "         [181, 143, 115],\n",
      "         [175, 136, 113],\n",
      "         ...,\n",
      "         [201, 164, 132],\n",
      "         [205, 168, 135],\n",
      "         [207, 171, 139]],\n",
      "\n",
      "        [[195, 161, 126],\n",
      "         [187, 153, 123],\n",
      "         [186, 151, 128],\n",
      "         ...,\n",
      "         [212, 177, 147],\n",
      "         [219, 185, 155],\n",
      "         [221, 187, 157]]]], dtype=uint8)>, 'label': <tf.Tensor: shape=(1,), dtype=int64, numpy=array([7])>}\n"
     ]
    }
   ],
   "source": [
    "#get dataset entries \n",
    "batch_1 = data_set.batch(1).prefetch(1)\n",
    "print(batch_1)\n",
    "for item in batch_1:\n",
    "    print(item)\n",
    "    break"
   ]
  },
  {
   "cell_type": "code",
   "execution_count": 26,
   "id": "447c7ea6",
   "metadata": {
    "ExecuteTime": {
     "end_time": "2022-01-07T05:06:24.588729Z",
     "start_time": "2022-01-07T05:06:20.096739Z"
    },
    "collapsed": true
   },
   "outputs": [
    {
     "data": {
      "application/vnd.jupyter.widget-view+json": {
       "model_id": "31a1b9249dfa479ba88842740f9fc236",
       "version_major": 2,
       "version_minor": 0
      },
      "text/plain": [
       "  0%|          | 1/50000 [00:00<?, ?it/s]"
      ]
     },
     "metadata": {},
     "output_type": "display_data"
    },
    {
     "name": "stdout",
     "output_type": "stream",
     "text": [
      "\n",
      "************ Summary ************\n",
      "\n",
      "Examples/sec (First included) 375240.08 ex/sec (total: 1600000 ex, 4.26 sec)\n",
      "Examples/sec (First only) 1701.21 ex/sec (total: 32 ex, 0.02 sec)\n",
      "Examples/sec (First excluded) 376895.23 ex/sec (total: 1599968 ex, 4.25 sec)\n"
     ]
    },
    {
     "data": {
      "text/html": [
       "<strong>BenchmarkResult:</strong><br/><div>\n",
       "<style scoped>\n",
       "    .dataframe tbody tr th:only-of-type {\n",
       "        vertical-align: middle;\n",
       "    }\n",
       "\n",
       "    .dataframe tbody tr th {\n",
       "        vertical-align: top;\n",
       "    }\n",
       "\n",
       "    .dataframe thead th {\n",
       "        text-align: right;\n",
       "    }\n",
       "</style>\n",
       "<table border=\"1\" class=\"dataframe\">\n",
       "  <thead>\n",
       "    <tr style=\"text-align: right;\">\n",
       "      <th></th>\n",
       "      <th>duration</th>\n",
       "      <th>num_examples</th>\n",
       "      <th>avg</th>\n",
       "    </tr>\n",
       "  </thead>\n",
       "  <tbody>\n",
       "    <tr>\n",
       "      <th>first+lasts</th>\n",
       "      <td>4.263937</td>\n",
       "      <td>1600000</td>\n",
       "      <td>375240.077664</td>\n",
       "    </tr>\n",
       "    <tr>\n",
       "      <th>first</th>\n",
       "      <td>0.018810</td>\n",
       "      <td>32</td>\n",
       "      <td>1701.210906</td>\n",
       "    </tr>\n",
       "    <tr>\n",
       "      <th>lasts</th>\n",
       "      <td>4.245127</td>\n",
       "      <td>1599968</td>\n",
       "      <td>376895.226134</td>\n",
       "    </tr>\n",
       "  </tbody>\n",
       "</table>\n",
       "</div>"
      ],
      "text/plain": [
       "BenchmarkResult(stats=             duration  num_examples            avg\n",
       "first+lasts  4.263937       1600000  375240.077664\n",
       "first        0.018810            32    1701.210906\n",
       "lasts        4.245127       1599968  376895.226134, raw_stats=                      duration\n",
       "start_time         4914.173861\n",
       "first_batch_time   4914.192671\n",
       "end_time           4918.437798\n",
       "num_iter          50000.000000)"
      ]
     },
     "execution_count": 26,
     "metadata": {},
     "output_type": "execute_result"
    }
   ],
   "source": [
    "tfds.benchmark(data_set, batch_size=32)"
   ]
  },
  {
   "cell_type": "code",
   "execution_count": 38,
   "id": "66bcb253",
   "metadata": {
    "ExecuteTime": {
     "end_time": "2022-01-07T05:18:59.969330Z",
     "start_time": "2022-01-07T05:18:59.719841Z"
    },
    "collapsed": true
   },
   "outputs": [
    {
     "name": "stderr",
     "output_type": "stream",
     "text": [
      "2022-01-07 10:18:59.769213: W tensorflow/core/kernels/data/cache_dataset_ops.cc:768] The calling iterator did not fully read the dataset being cached. In order to avoid unexpected truncation of the dataset, the partially cached contents of the dataset  will be discarded. This can happen if you have an input pipeline similar to `dataset.cache().take(k).repeat()`. You should use `dataset.take(k).cache().repeat()` instead.\n"
     ]
    },
    {
     "data": {
      "image/png": "[encoded data removed]",
      "text/plain": [
       "<Figure size 648x648 with 9 Axes>"
      ]
     },
     "metadata": {},
     "output_type": "display_data"
    },
    {
     "name": "stdout",
     "output_type": "stream",
     "text": [
      "10\n",
      "['airplane', 'automobile', 'bird', 'cat', 'deer', 'dog', 'frog', 'horse', 'ship', 'truck']\n",
      "horse\n",
      "1\n"
     ]
    }
   ],
   "source": [
    "from matplotlib import pyplot as plt\n",
    "data_set, info = tfds.load('cifar10', split='train', shuffle_files=True, with_info=True)\n",
    "#does not supports batched input or video \n",
    "figure = tfds.show_examples(data_set, info)\n",
    "\n",
    "print(info.features[\"label\"].num_classes)\n",
    "print(info.features[\"label\"].names)\n",
    "print(info.features[\"label\"].int2str(7))  # Human readable version (8 -> 'cat')\n",
    "print(info.features[\"label\"].str2int('automobile'))"
   ]
  },
  {
   "cell_type": "markdown",
   "id": "65ae07da",
   "metadata": {},
   "source": [
    "# Advance Concepts\n"
   ]
  },
  {
   "cell_type": "markdown",
   "id": "278522a4",
   "metadata": {},
   "source": [
    "### Load Local Dataset\n",
    "<code> keras.preprocessing.image.ImageDataGenerator</code>"
   ]
  },
  {
   "cell_type": "code",
   "execution_count": 58,
   "id": "6a46f28f",
   "metadata": {
    "ExecuteTime": {
     "end_time": "2022-01-07T05:58:53.898541Z",
     "start_time": "2022-01-07T05:58:53.761097Z"
    }
   },
   "outputs": [
    {
     "name": "stderr",
     "output_type": "stream",
     "text": [
      "WARNING:matplotlib.image:Clipping input data to the valid range for imshow with RGB data ([0..1] for floats or [0..255] for integers).\n"
     ]
    },
    {
     "name": "stdout",
     "output_type": "stream",
     "text": [
      "Found 16 images belonging to 2 classes.\n",
      "Found 8 images belonging to 2 classes.\n",
      "Found 4 images belonging to 2 classes.\n"
     ]
    },
    {
     "data": {
      "text/plain": [
       "<matplotlib.image.AxesImage at 0x7f1ba52accd0>"
      ]
     },
     "execution_count": 58,
     "metadata": {},
     "output_type": "execute_result"
    },
    {
     "data": {
      "image/png": "[encoded data removed]",
      "text/plain": [
       "<Figure size 432x288 with 1 Axes>"
      ]
     },
     "metadata": {
      "needs_background": "light"
     },
     "output_type": "display_data"
    }
   ],
   "source": [
    "from matplotlib import pyplot as plt\n",
    "from keras.preprocessing.image import ImageDataGenerator\n",
    "datagen = ImageDataGenerator()\n",
    "train_generator = datagen.flow_from_directory('res/dataset_dir/train/', class_mode='binary', batch_size=1)\n",
    "test_generator = datagen.flow_from_directory('res/dataset_dir/test/', class_mode='binary', batch_size=1)\n",
    "val_generator = datagen.flow_from_directory('res/dataset_dir/validation/', class_mode='binary', batch_size=1)\n",
    "img, lable =train_generator.next()"
   ]
  },
  {
   "cell_type": "code",
   "execution_count": 52,
   "id": "b3d236e8",
   "metadata": {
    "ExecuteTime": {
     "end_time": "2022-01-07T05:55:14.696720Z",
     "start_time": "2022-01-07T05:55:14.688037Z"
    }
   },
   "outputs": [
    {
     "name": "stdout",
     "output_type": "stream",
     "text": [
      "Found 0 validated image filenames belonging to 0 classes.\n"
     ]
    },
    {
     "name": "stderr",
     "output_type": "stream",
     "text": [
      "/home/fawadabbas/anaconda3/lib/python3.9/site-packages/keras_preprocessing/image/dataframe_iterator.py:279: UserWarning: Found 28 invalid image filename(s) in x_col=\"path\". These filename(s) will be ignored.\n",
      "  warnings.warn(\n"
     ]
    }
   ],
   "source": [
    "#TODO create dataset csv file \n",
    "import pandas as pd\n",
    "dataFrame = pd.read_csv('res/dataset_df/test.csv')\n",
    "dataFrame.head()\n",
    "datagen = ImageDataGenerator()\n",
    "train_gen = datagen.flow_from_dataframe(\n",
    "    dataframe=dataFrame, \n",
    "    directory='./res/dataset_df/', \n",
    "    x_col='path',\n",
    "    y_col='label',\n",
    "\n",
    ")"
   ]
  },
  {
   "cell_type": "markdown",
   "id": "61ab50d1",
   "metadata": {},
   "source": [
    "## Save and Close"
   ]
  },
  {
   "cell_type": "code",
   "execution_count": null,
   "id": "21677588",
   "metadata": {},
   "outputs": [],
   "source": [
    "%%javascript\n",
    "IPython.notebook.save_checkpoint();\n",
    "window.onbeforeunload = null\n",
    "window.close();\n",
    "IPython.notebook.session.delete();"
   ]
  }
 ],
 "metadata": {
  "kernelspec": {
   "display_name": "Python 3 (ipykernel)",
   "language": "python",
   "name": "python3"
  },
  "language_info": {
   "codemirror_mode": {
    "name": "ipython",
    "version": 3
   },
   "file_extension": ".py",
   "mimetype": "text/x-python",
   "name": "python",
   "nbconvert_exporter": "python",
   "pygments_lexer": "ipython3",
   "version": "3.9.7"
  },
  "toc": {
   "base_numbering": 1,
   "nav_menu": {},
   "number_sections": false,
   "sideBar": true,
   "skip_h1_title": false,
   "title_cell": "Table of Contents",
   "title_sidebar": "Contents",
   "toc_cell": false,
   "toc_position": {},
   "toc_section_display": true,
   "toc_window_display": true
  },
  "varInspector": {
   "cols": {
    "lenName": 16,
    "lenType": 16,
    "lenVar": 40
   },
   "kernels_config": {
    "python": {
     "delete_cmd_postfix": "",
     "delete_cmd_prefix": "del ",
     "library": "var_list.py",
     "varRefreshCmd": "print(var_dic_list())"
    },
    "r": {
     "delete_cmd_postfix": ") ",
     "delete_cmd_prefix": "rm(",
     "library": "var_list.r",
     "varRefreshCmd": "cat(var_dic_list()) "
    }
   },
   "types_to_exclude": [
    "module",
    "function",
    "builtin_function_or_method",
    "instance",
    "_Feature"
   ],
   "window_display": false
  }
 },
 "nbformat": 4,
 "nbformat_minor": 5
}
